{
 "cells": [
  {
   "cell_type": "markdown",
   "metadata": {},
   "source": [
    "# Backup Data"
   ]
  },
  {
   "cell_type": "markdown",
   "metadata": {},
   "source": [
    "For each of the notebooks there are datasets that are available on the CyVerse data store for import. If you make a mistake, or need to skip ahead, use the commands below to import the data you need. "
   ]
  },
  {
   "cell_type": "markdown",
   "metadata": {},
   "source": [
    "## Setup iRods configuration (required)\n",
    "\n",
    "Before using this notebook you must execute the following cell before running any of the other cells"
   ]
  },
  {
   "cell_type": "code",
   "execution_count": 4,
   "metadata": {},
   "outputs": [],
   "source": [
    "mkdir -p /home/gea_user/.irods\n",
    "echo '{\"irods_zone_name\": \"iplant\", \"irods_host\": \"data.cyverse.org\",\"irods_port\": 1247,\"irods_user_name\": \"$IPLANT_USER\"}' > /home/gea_user/.irods/irods_environment.json "
   ]
  },
  {
   "cell_type": "code",
   "execution_count": 10,
   "metadata": {},
   "outputs": [
    {
     "name": "stdout",
     "output_type": "stream",
     "text": [
      "remote addresses: 206.207.252.46 ERROR: resolveRodsTarget: source /home/gea_user/DC_data does not exist\n",
      "remote addresses: 206.207.252.46 ERROR: rsyncUtil: resolveRodsTarget status = -317000 USER_INPUT_PATH_ERR\n"
     ]
    },
    {
     "ename": "",
     "evalue": "3",
     "output_type": "error",
     "traceback": []
    }
   ],
   "source": [
    "HOME=/home/gea_user/\n",
    "irsync -r /home/gea_user/DC_data i:/iplant/home/$IPLANT_USER/DC_data"
   ]
  },
  {
   "cell_type": "code",
   "execution_count": null,
   "metadata": {},
   "outputs": [],
   "source": []
  }
 ],
 "metadata": {
  "kernelspec": {
   "display_name": "Bash",
   "language": "bash",
   "name": "bash"
  },
  "language_info": {
   "codemirror_mode": "shell",
   "file_extension": ".sh",
   "mimetype": "text/x-sh",
   "name": "bash"
  }
 },
 "nbformat": 4,
 "nbformat_minor": 4
}
