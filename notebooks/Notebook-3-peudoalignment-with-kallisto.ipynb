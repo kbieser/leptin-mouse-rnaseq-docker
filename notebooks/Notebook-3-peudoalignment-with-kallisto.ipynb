{
 "cells": [
  {
   "cell_type": "markdown",
   "metadata": {},
   "source": [
    "# RNA-Seq from scratch - Kallisto\n",
    "\n",
    "In this notebook we will align (pseudoalign) reads to the mouse transcriptome using a software package called [kallisto](https://pachterlab.github.io/kallisto/about).\n",
    "\n"
   ]
  },
  {
   "cell_type": "markdown",
   "metadata": {},
   "source": [
    "## Obtain reference data\n",
    "\n",
    "There are a few files we need to analyze our data with Kallisto\n",
    "\n",
    "- Reference transcriptome: A file of all the known trasncripts of the mouse genome \n",
    "- Reference annotations: A file with information on the location and structure of the genes in the mouse genome\n",
    "\n",
    "These data (for mouse, and many other organisims) are available from public databases"
   ]
  },
  {
   "cell_type": "markdown",
   "metadata": {},
   "source": [
    "### Import transcriptome data\n",
    "\n",
    "First, we will download the mouse transcriptome data from [Ensemble](http://useast.ensembl.org/Mus_musculus/Info/Index). The mouse transcriptome is available on [this page](ftp://ftp.ensembl.org/pub/release-97/fasta/mus_musculus/cdna/). The `wget` command will allow us to download the transcriptome from Ensembl. This may take a minute or two - make sure the download completes before moving on - you shoul get a message saying `‘Mus_musculus.GRCm38.cdna.all.fa.gz’ saved [51982200]`."
   ]
  },
  {
   "cell_type": "code",
   "execution_count": null,
   "metadata": {},
   "outputs": [],
   "source": [
    "wget ftp://ftp.ensembl.org/pub/release-97/fasta/mus_musculus/cdna/Mus_musculus.GRCm38.cdna.all.fa.gz"
   ]
  },
  {
   "cell_type": "markdown",
   "metadata": {},
   "source": [
    "Let's also organize our downloaded data; we will make a new directory (`transcriptome`) in our `rna-seq-project` folder and use the `mv` command to move the transcriptome data we downloaded in the step above. "
   ]
  },
  {
   "cell_type": "code",
   "execution_count": null,
   "metadata": {},
   "outputs": [],
   "source": [
    "mkdir -p /home/gea_user/rna-seq-project/transcriptome && mv Mus_musculus.GRCm38.cdna.all.fa.gz /home/gea_user/rna-seq-project/transcriptome"
   ]
  },
  {
   "cell_type": "markdown",
   "metadata": {},
   "source": [
    "### Index transcriptome\n",
    "\n",
    "We will now use Kallisto's indexing function to prepare the transcriptome for analysis. The \"Index\" is a lookup table for the transcriptome that allows it to be more easily searched by Kallisto. First let's organize our files by creating a new directory to hold our kallisto work. "
   ]
  },
  {
   "cell_type": "code",
   "execution_count": null,
   "metadata": {},
   "outputs": [],
   "source": [
    "mkdir -p /home/gea_user/rna-seq-project/kallisto"
   ]
  },
  {
   "cell_type": "markdown",
   "metadata": {},
   "source": [
    "Next run the indexing command. This prepares the transcriptome so that we can peudoalign reads to it. "
   ]
  },
  {
   "cell_type": "code",
   "execution_count": null,
   "metadata": {},
   "outputs": [],
   "source": [
    "kallisto index --index=\"Mus_musculus.GRCm38_index\" /home/gea_user/rna-seq-project/transcriptome/Mus_musculus.GRCm38.cdna.all.fa.gz"
   ]
  },
  {
   "cell_type": "markdown",
   "metadata": {},
   "source": [
    "We now have a transcriptome index which can now be used for pseudoalignment, we'll move it into the transcriptome folder:"
   ]
  },
  {
   "cell_type": "code",
   "execution_count": null,
   "metadata": {},
   "outputs": [],
   "source": [
    "mv Mus_musculus.GRCm38_index /home/gea_user/rna-seq-project/transcriptome/"
   ]
  },
  {
   "cell_type": "markdown",
   "metadata": {},
   "source": [
    "We also will need the mouse GTF file, a file containing coordinates and descriptions for all gene names and locations - we will also download this from Ensembl. "
   ]
  },
  {
   "cell_type": "code",
   "execution_count": null,
   "metadata": {},
   "outputs": [],
   "source": [
    "wget ftp://ftp.ensembl.org/pub/release-97/gtf/mus_musculus/Mus_musculus.GRCm38.97.chr.gtf.gz"
   ]
  },
  {
   "cell_type": "markdown",
   "metadata": {},
   "source": [
    "We will make a folder called annotations and save that there as well."
   ]
  },
  {
   "cell_type": "code",
   "execution_count": null,
   "metadata": {},
   "outputs": [],
   "source": [
    "mkdir -p /home/gea_user/rna-seq-project/kallisto/annotations"
   ]
  },
  {
   "cell_type": "code",
   "execution_count": null,
   "metadata": {},
   "outputs": [],
   "source": [
    "mv Mus_musculus.GRCm38.97.chr.gtf.gz /home/gea_user/rna-seq-project/kallisto/annotations"
   ]
  },
  {
   "cell_type": "markdown",
   "metadata": {},
   "source": [
    "Finally we also need a textfile that has the name of each mouse chromosome (e.g. 1, 2, 3, ... X, Y, MT) and the length of each chromosome, This will be used for visualization. The information will be downloaded and then edited using bash commands. "
   ]
  },
  {
   "cell_type": "code",
   "execution_count": null,
   "metadata": {},
   "outputs": [],
   "source": [
    "wget ftp://ftp.ncbi.nlm.nih.gov/genomes/all/GCF/000/001/635/GCF_000001635.26_GRCm38.p6/GCF_000001635.26_GRCm38.p6_assembly_report.txt"
   ]
  },
  {
   "cell_type": "code",
   "execution_count": null,
   "metadata": {},
   "outputs": [],
   "source": [
    "head -n64 GCF_000001635.26_GRCm38.p6_assembly_report.txt|tail -n21|cut -f1,9 > /home/gea_user/rna-seq-project/kallisto/annotations/mouse_chromosomes.tsv"
   ]
  },
  {
   "cell_type": "markdown",
   "metadata": {},
   "source": [
    "We can see this edited list of chromosome numbers and lengths here:"
   ]
  },
  {
   "cell_type": "code",
   "execution_count": null,
   "metadata": {},
   "outputs": [],
   "source": [
    "cat /home/gea_user/rna-seq-project/kallisto/annotations/mouse_chromosomes.tsv"
   ]
  },
  {
   "cell_type": "markdown",
   "metadata": {},
   "source": [
    "### Quantify reads\n",
    "\n",
    "In this final step, we will run Kallisto on all of our files to quantify the reads. We will write a for loop to do this. Let's see once again our trimmed reads"
   ]
  },
  {
   "cell_type": "markdown",
   "metadata": {},
   "source": [
    "----\n",
    "# Exercise 3: Pseudoaligning reads with Kallisto\n",
    "----"
   ]
  },
  {
   "cell_type": "markdown",
   "metadata": {},
   "source": [
    "## Working with data you trimmed yourself\n",
    "\n",
    "If you used trimmomatic to trim your reads, run the next cell (otherwise skip to the cell for fastp reads)"
   ]
  },
  {
   "cell_type": "code",
   "execution_count": null,
   "metadata": {},
   "outputs": [],
   "source": [
    "cd /home/gea_user/rna-seq-project/trimmed-reads\n",
    "ls"
   ]
  },
  {
   "cell_type": "markdown",
   "metadata": {},
   "source": [
    "We don't want the `small_trimmed.fastq.gz` file to be part of our analysis, so we will delete it"
   ]
  },
  {
   "cell_type": "code",
   "execution_count": null,
   "metadata": {},
   "outputs": [],
   "source": [
    "rm small_trimmed.fastq.gz"
   ]
  },
  {
   "cell_type": "markdown",
   "metadata": {},
   "source": [
    "Now we should have just the trimmed file(s) we want to analyze. "
   ]
  },
  {
   "cell_type": "code",
   "execution_count": null,
   "metadata": {},
   "outputs": [],
   "source": [
    "ls"
   ]
  },
  {
   "cell_type": "markdown",
   "metadata": {},
   "source": [
    "## Working with data pre-trimmed data\n"
   ]
  },
  {
   "cell_type": "markdown",
   "metadata": {},
   "source": [
    "All instructions for the commands we are using are in the Kallisto manual: https://pachterlab.github.io/kallisto/manual. Since we are using single read data, we need to provide information on the fragment length used for the library (200) and an estimate of the standard deviation for this value - here we will have to guess (20). We need to run Kallisto separately on each of our 6 files so we will use a [for loop](https://www.cs.utah.edu/~germain/PPS/Topics/for_loops.html). \n"
   ]
  },
  {
   "cell_type": "code",
   "execution_count": null,
   "metadata": {},
   "outputs": [],
   "source": [
    "for file in *_trimmed.fastq.gz; do output=$(basename --suffix=.fastq.gz_trimmed.fastq.gz $file)_quant; kallisto quant\\\n",
    " --single\\\n",
    " --threads=8\\\n",
    " --index=/home/gea_user/rna-seq-project/transcriptome/Mus_musculus.GRCm38_index\\\n",
    " --bootstrap-samples=25\\\n",
    " --fragment-length=200\\\n",
    " --sd=20\\\n",
    " --output-dir=$output\\\n",
    " --genomebam\\\n",
    " --gtf=/home/gea_user/rna-seq-project/kallisto/annotations/Mus_musculus.GRCm38.97.chr.gtf.gz\\\n",
    " --chromosomes=/home/gea_user/rna-seq-project/kallisto/annotations/mouse_chromosomes.tsv\\\n",
    " $file; done"
   ]
  },
  {
   "cell_type": "markdown",
   "metadata": {},
   "source": [
    "Lets move our results to an appropriate directory and view the directories containing our analyses:"
   ]
  },
  {
   "cell_type": "code",
   "execution_count": null,
   "metadata": {},
   "outputs": [],
   "source": [
    "mkdir -p /home/gea_user/rna-seq-project/kallisto/analyzed\n",
    "mv *_quant /home/gea_user/rna-seq-project/kallisto/analyzed\n",
    "cd /home/gea_user/rna-seq-project/kallisto/analyzed\n",
    "ls"
   ]
  },
  {
   "cell_type": "markdown",
   "metadata": {},
   "source": [
    "Each of these directories containes several files, lets remind ourselves what each of these directories contain:\n",
    "\n",
    "\n",
    "|SRA Sample\t|Sample Name|Folder Name|\n",
    "|-----------|-----------|---------|\n",
    "|SRS1794108|High-Fat Diet Control 1|SRR5017135_trimmed.fastq.gz_quant|\n",
    "|SRS1794110|High-Fat Diet Control 2|SRR5017137_trimmed.fastq.gz_quant|\n",
    "|SRS1794106|High-Fat Diet Control 3|SRR5017133_trimmed.fastq.gz_quant|\n",
    "|SRS1794105|High-Fat Diet Tumor 1|SRR5017132_trimmed.fastq.gz_quant|\n",
    "|SRS1794101|High-Fat Diet Tumor 2|SRR5017128_trimmed.fastq.gz_quant|\n",
    "|SRS1794111|High-Fat Diet Tumor 3|SRR5017138_trimmed.fastq.gz_quant|\n"
   ]
  },
  {
   "cell_type": "markdown",
   "metadata": {},
   "source": [
    "Let's look at the files in the High-Fat Diet Control 1"
   ]
  },
  {
   "cell_type": "code",
   "execution_count": null,
   "metadata": {},
   "outputs": [],
   "source": [
    "cd /home/gea_user/rna-seq-project/kallisto/analyzed/SRR5017135_trimmed.fastq.gz_quant\n",
    "ls"
   ]
  },
  {
   "cell_type": "markdown",
   "metadata": {},
   "source": [
    "This file contains a list of abundances (counts) for the Regular Diet Control sequences from SRR5017139"
   ]
  },
  {
   "cell_type": "code",
   "execution_count": null,
   "metadata": {},
   "outputs": [],
   "source": [
    "head -n 100 abundance.tsv"
   ]
  }
 ],
 "metadata": {
  "kernelspec": {
   "display_name": "Bash",
   "language": "bash",
   "name": "bash"
  },
  "language_info": {
   "codemirror_mode": "shell",
   "file_extension": ".sh",
   "mimetype": "text/x-sh",
   "name": "bash"
  }
 },
 "nbformat": 4,
 "nbformat_minor": 4
}
