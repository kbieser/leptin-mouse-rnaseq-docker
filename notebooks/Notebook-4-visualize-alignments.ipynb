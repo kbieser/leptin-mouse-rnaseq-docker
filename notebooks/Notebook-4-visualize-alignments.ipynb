{
 "cells": [
  {
   "cell_type": "markdown",
   "metadata": {},
   "source": [
    "# Visualize BAM file alignment at the Leptin gene locus"
   ]
  },
  {
   "cell_type": "markdown",
   "metadata": {},
   "source": [
    "Our results are in the analysed directory"
   ]
  },
  {
   "cell_type": "code",
   "execution_count": null,
   "metadata": {},
   "outputs": [],
   "source": [
    "!ls /home/gea_user/rna-seq-project/kallisto/analyzed"
   ]
  },
  {
   "cell_type": "markdown",
   "metadata": {},
   "source": [
    "**Notice**: In this notebook we will be using the [Python](https://www.python.org/) package [genomeview](https://genomeview.readthedocs.io/en/latest/index.html) to visualize our BAM alignments. All of our normal shell commands will begin with a `!` - python commands will not begin with this character. "
   ]
  },
  {
   "cell_type": "markdown",
   "metadata": {},
   "source": [
    " lets remind ourselves what each of these directories contain:\n",
    "\n",
    "\n",
    "|SRA Sample\t|Sample Name|Folder Name|\n",
    "|-----------|-----------|---------|\n",
    "|SRS1794108|High-Fat Diet Control 1|SRR5017135_trimmed.fastq.gz_quant|\n",
    "|SRS1794110|High-Fat Diet Control 2|SRR5017137_trimmed.fastq.gz_quant|\n",
    "|SRS1794106|High-Fat Diet Control 3|SRR5017133_trimmed.fastq.gz_quant|\n",
    "|SRS1794105|High-Fat Diet Tumor 1|SRR5017132_trimmed.fastq.gz_quant|\n",
    "|SRS1794101|High-Fat Diet Tumor 2|SRR5017128_trimmed.fastq.gz_quant|\n",
    "|SRS1794111|High-Fat Diet Tumor 3|SRR5017138_trimmed.fastq.gz_quant|"
   ]
  },
  {
   "cell_type": "markdown",
   "metadata": {},
   "source": [
    "**Optional**: We need a copy of the mouse genome to visualize an alignment of these reads. We can use the following command to download the primary assembly from [ensembl](http://useast.ensembl.org/Mus_musculus/Info/Index). This genome has already been provided for you, but you could change the FTP link to download a genome of your choice for a different dataset. "
   ]
  },
  {
   "cell_type": "code",
   "execution_count": null,
   "metadata": {},
   "outputs": [],
   "source": [
    "# get mouse genome using wget - uncomment the line below\n",
    "#!wget ftp://ftp.ensembl.org/pub/release-97/fasta/mus_musculus/dna/Mus_musculus.GRCm38.dna.primary_assembly.fa.gz\n",
    "\n",
    "# If you import the mouse genome you will also need to decompress it by uncommenting the line below\n",
    "#!gzip -d Mus_musculus.GRCm38.dna.primary_assembly.fa.gz"
   ]
  },
  {
   "cell_type": "markdown",
   "metadata": {},
   "source": [
    "We will make a directory for the downloaded genome (`mkidr -p`) and move (`mv`) the downloaded genome to the new directory. "
   ]
  },
  {
   "cell_type": "code",
   "execution_count": null,
   "metadata": {},
   "outputs": [],
   "source": [
    "!mkdir -p /home/gea_user/rna-seq-project/genomes"
   ]
  },
  {
   "cell_type": "code",
   "execution_count": null,
   "metadata": {},
   "outputs": [],
   "source": [
    "!mv /home/gea_user/data/pre-imported/genomes/Mus_musculus.GRCm38.dna.primary_assembly.fa /home/gea_user/rna-seq-project/genomes/"
   ]
  },
  {
   "cell_type": "markdown",
   "metadata": {},
   "source": [
    "We will now import the `genomeview` python package"
   ]
  },
  {
   "cell_type": "code",
   "execution_count": null,
   "metadata": {},
   "outputs": [],
   "source": [
    "import genomeview"
   ]
  },
  {
   "cell_type": "markdown",
   "metadata": {},
   "source": [
    "We will specify the datasets ([bam](https://en.wikipedia.org/wiki/SAM_(file_format)) files), as well as the location of our reference genome and the chromosome to visualize (including the start and stop position on the chromosome)"
   ]
  },
  {
   "cell_type": "code",
   "execution_count": null,
   "metadata": {},
   "outputs": [],
   "source": [
    "datasets = {\"High-Fat Diet Control 1\":\"/home/gea_user/rna-seq-project/kallisto/analyzed/SRR5017135_trimmed.fastq.gz_quant/pseudoalignments.bam\",\n",
    "            \"High-Fat Diet Control 2\":\"/home/gea_user/rna-seq-project/kallisto/analyzed/SRR5017137_trimmed.fastq.gz_quant/pseudoalignments.bam\",\n",
    "            \"High-Fat Diet Control 3\":\"/home/gea_user/rna-seq-project/kallisto/analyzed/SRR5017133_trimmed.fastq.gz_quant/pseudoalignments.bam\",\n",
    "           \"High-fat Diet Tumor 1\":\"/home/gea_user/rna-seq-project/kallisto/analyzed/SRR5017132_trimmed.fastq.gz_quant/pseudoalignments.bam\", \n",
    "           \"High-fat Diet Tumor 2\":\"/home/gea_user/rna-seq-project/kallisto/analyzed/SRR5017128_trimmed.fastq.gz_quant/pseudoalignments.bam\", \n",
    "           \"High-fat Diet Tumor 3\":\"/home/gea_user/rna-seq-project/kallisto/analyzed/SRR5017138_trimmed.fastq.gz_quant/pseudoalignments.bam\"}\n",
    "\n",
    "reference = \"/home/gea_user/rna-seq-project/genomes/Mus_musculus.GRCm38.dna.primary_assembly.fa\"\n",
    "chrom = \"chr6\"\n",
    "start = 29060195 \n",
    "end = 29073877\n",
    "visualization = genomeview.visualize_data(datasets, chrom, start, end, reference)"
   ]
  },
  {
   "cell_type": "markdown",
   "metadata": {},
   "source": [
    "Finally, we can visualize the three bam files for each of the control/high-fat diets. The blue tick-marks represent individual RNA-Seq reads that map to this region of the genome (the [leptin gene](https://www.ncbi.nlm.nih.gov/gene/16846)). Clearly, in the mouse tumor samples from the high-fat diet mice, expression of this gene is greatly increased. Although each replicated experiment does not have exactly the same number of mapped reads, there is a clear difference. Further statistical analysis would allow us to further describe the signifigance of the difference. "
   ]
  },
  {
   "cell_type": "code",
   "execution_count": null,
   "metadata": {},
   "outputs": [],
   "source": [
    "visualization"
   ]
  },
  {
   "cell_type": "markdown",
   "metadata": {},
   "source": [
    "## Visualizing at UCSC Genome Browser\n",
    "\n",
    "You can also use the URLs above to import your data a track on the [UCSC Genome Browser](https://genome.ucsc.edu/cgi-bin/hgTracks?db=mm10&lastVirtModeType=default&lastVirtModeExtraState=&virtModeType=default&virtMode=0&nonVirtPosition=&position=chr6%3A29060220%2D29073877&hgsid=748126121_Aqx441FKuWv31vrQWUTykpIHieke).\n",
    "\n",
    "1. Go to the [USCS Genome Browser](https://genome.ucsc.edu/cgi-bin/hgGateway) and select \"Mouse\"\n",
    "2. Under \"Postion/Sear Term\" type in \"Lep\" and choose the first option (Mus musculus leptin (Lep), mRNA. (from RefSeq NM_008493)); then click \"Go\"\n",
    "    <br><img src=\"./img/ucsc-mouse.png\" alt=\"ucsc-partial-reads\" style=\"width:850px;height:300px;\"><br> \n",
    "3. Under the browser display, click on the \"add custom tracks\" button. \n",
    "4. Copy and paste the formatted URL information from the table below into the \"Past URLs or data\" box. Do this for all the tracks you wish to view (be sure to copy the entire contents of the tabel cell from \"track name\" to \"type=bam\". Put a line of space between each pasted track information. \n",
    "    <br><img src=\"./img/ucsc-custom-tracks.png\" alt=\"ucsc-custom-tracks\" style=\"width:800px;height:400px;\"><br> \n",
    "5. Click submit to begin the track upload. On the next screen (\"Manage Custom Tracks\") click \"go\" to view in the genome browser. \n",
    "\n"
   ]
  },
  {
   "cell_type": "markdown",
   "metadata": {},
   "source": [
    "|SRA_Sample\t|SRR Read Name|Sample_Name|UCSC Formatted Genome Browser BAM URL|\n",
    "|---------------|-------------|-----------|---------------------------------|\n",
    "|SRS1794108|SRR5017135|High-Fat Diet Control 1|track name=\"High-FatCntl 1\" bigDataUrl=https://data.cyverse.org/dav-anon/iplant/projects/gea/rna-seq-leptin/worked_results/rna-seq-project/kallisto/analyzed/SRR5017135_trimmed.fastq.gz_quant/pseudoalignments.bam type=bam|\n",
    "|SRS1794110|SRR5017137|High-Fat Diet Control 2|track name=\"High-FatCntl 2\" bigDataUrl=https://data.cyverse.org/dav-anon/iplant/projects/gea/rna-seq-leptin/worked_results/rna-seq-project/kallisto/analyzed/SRR5017137_trimmed.fastq.gz_quant/pseudoalignments.bam type=bam|\n",
    "|SRS1794106|SRR5017133|High-Fat Diet Control 3|track name=\"High-FatCntl 3\" bigDataUrl=https://data.cyverse.org/dav-anon/iplant/projects/gea/rna-seq-leptin/worked_results/rna-seq-project/kallisto/analyzed/SRR5017133_trimmed.fastq.gz_quant/pseudoalignments.bam type=bam|\n",
    "|SRS1794105|SRR5017132|High-Fat Diet Tumor 1|track name=\"High-FatTumor 1\" bigDataUrl=https://data.cyverse.org/dav-anon/iplant/projects/gea/rna-seq-leptin/worked_results/rna-seq-project/kallisto/analyzed/SRR5017132_trimmed.fastq.gz_quant/pseudoalignments.bam type=bam|\n",
    "|SRS1794101|SRR5017128|High-Fat Diet Tumor 2|track name=\"High-FatTumor 2\" bigDataUrl=https://data.cyverse.org/dav-anon/iplant/projects/gea/rna-seq-leptin/worked_results/rna-seq-project/kallisto/analyzed/SRR5017128_trimmed.fastq.gz_quant/pseudoalignments.bam type=bam|\n",
    "|SRS1794111|SRR5017138|High-Fat Diet Tumor 3|track name=\"High-FatTumor 3\" bigDataUrl=https://data.cyverse.org/dav-anon/iplant/projects/gea/rna-seq-leptin/worked_results/rna-seq-project/kallisto/analyzed/SRR5017138_trimmed.fastq.gz_quant/pseudoalignments.bam type=bam|"
   ]
  },
  {
   "cell_type": "markdown",
   "metadata": {},
   "source": [
    "6\\. You will now have data from your added tracks. For each custom track, you can change the display from \"dense\" to \"squish\", \"pack\", or \"full\" to see the number of reads (be sure to refresh the display to see the data visualization. \n",
    "\n",
    "<img src=\"./img/ucsc-partial-reads.png\" alt=\"ucsc-partial-reads\" style=\"width:950px;height:1000px;\"> "
   ]
  },
  {
   "cell_type": "markdown",
   "metadata": {},
   "source": [
    "## Visualizing in IGV"
   ]
  },
  {
   "cell_type": "markdown",
   "metadata": {},
   "source": [
    "You can do more extensive visualizations of your data using a genome browser like IGV ([Download IGV](https://software.broadinstitute.org/software/igv/download)). After installing IGV you can view the read alignments by performing the following steps: \n"
   ]
  },
  {
   "cell_type": "markdown",
   "metadata": {},
   "source": [
    "1\\. In the genome pull-down menu, select the mouse genome: \"Mouse (mm10)\"\n",
    "\n",
    " <img src=\"./img/mouse-pull-down.png\" alt=\"mouse-pull-down\" style=\"width:200px;height:200px;\"> "
   ]
  },
  {
   "cell_type": "markdown",
   "metadata": {},
   "source": [
    "2\\. In the navigation menu, search for the \"Lep\" (Leptin) gene and click \"Go\". The location is:chr6:29,058,221-29,075,876\n",
    "\n",
    " <img src=\"./img/navigation.png\" alt=\"navigation\" style=\"width:800px;height:50px;\"> "
   ]
  },
  {
   "cell_type": "markdown",
   "metadata": {},
   "source": [
    "3\\. In IGV's \"File\" menu, select \"Load from URL...\". In the window that opens, choose a URL from the table below to paste into the \"File URL\" box. *You do not need to provide an Index URL*. These URLs correspond to data from the CyVerse Data Store which has already been pre-computed using these notebooks. If you have your own BAM files, you could access the CyVerse Data Store and create a URL to [view your file in a genome browser](https://learning.cyverse.org/projects/faq/en/latest/Discovery-environment-faq.html?highlight=genome%20browser#can-i-view-my-files-in-a-genome-browser). \n",
    "\n",
    "|SRA_Sample\t|SRR Read Name|Sample_Name|URL|\n",
    "|-----------|-------------|-----------|---|\n",
    "|SRS1794108|SRR5017135|High-Fat Diet Control 1|https://data.cyverse.org/dav-anon/iplant/projects/gea/rna-seq-leptin/worked_results/rna-seq-project/kallisto/analyzed/SRR5017135_trimmed.fastq.gz_quant/pseudoalignments.bam|\n",
    "|SRS1794110|SRR5017137|High-Fat Diet Control 2|https://data.cyverse.org/dav-anon/iplant/projects/gea/rna-seq-leptin/worked_results/rna-seq-project/kallisto/analyzed/SRR5017137_trimmed.fastq.gz_quant/pseudoalignments.bam|\n",
    "|SRS1794106|SRR5017133|High-Fat Diet Control 3|https://data.cyverse.org/dav-anon/iplant/projects/gea/rna-seq-leptin/worked_results/rna-seq-project/kallisto/analyzed/SRR5017133_trimmed.fastq.gz_quant/pseudoalignments.bam|\n",
    "|SRS1794105|SRR5017132|High-Fat Diet Tumor 1|https://data.cyverse.org/dav-anon/iplant/projects/gea/rna-seq-leptin/worked_results/rna-seq-project/kallisto/analyzed/SRR5017132_trimmed.fastq.gz_quant/pseudoalignments.bam|\n",
    "|SRS1794101|SRR5017128|High-Fat Diet Tumor 2|https://data.cyverse.org/dav-anon/iplant/projects/gea/rna-seq-leptin/worked_results/rna-seq-project/kallisto/analyzed/SRR5017128_trimmed.fastq.gz_quant/pseudoalignments.bam|\n",
    "|SRS1794111|SRR5017138|High-Fat Diet Tumor 3|https://data.cyverse.org/dav-anon/iplant/projects/gea/rna-seq-leptin/worked_results/rna-seq-project/kallisto/analyzed/SRR5017138_trimmed.fastq.gz_quant/pseudoalignments.bam|\n",
    "\n",
    " <img src=\"./img/loadfromurl.png\" alt=\"loadfromurl\" style=\"width:800px;height:200px;\"> "
   ]
  },
  {
   "cell_type": "markdown",
   "metadata": {},
   "source": [
    "4\\. You can add as many URLs as you wish to view. As you add a track, you may right-click the track name to rename the track. Here is a view of all 6 sets of reads used in this dataset loaded on IGV\n",
    "\n",
    "<img src=\"./img/alltracks.png\" alt=\"alltracks\" style=\"width:800px;height:1000px;\"> "
   ]
  }
 ],
 "metadata": {
  "kernelspec": {
   "display_name": "Python 3",
   "language": "python",
   "name": "python3"
  },
  "language_info": {
   "codemirror_mode": {
    "name": "ipython",
    "version": 3
   },
   "file_extension": ".py",
   "mimetype": "text/x-python",
   "name": "python",
   "nbconvert_exporter": "python",
   "pygments_lexer": "ipython3",
   "version": "3.7.3"
  }
 },
 "nbformat": 4,
 "nbformat_minor": 4
}
