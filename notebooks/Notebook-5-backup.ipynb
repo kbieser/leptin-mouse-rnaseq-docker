{
 "cells": [
  {
   "cell_type": "markdown",
   "metadata": {},
   "source": [
    "# Backup Data"
   ]
  },
  {
   "cell_type": "markdown",
   "metadata": {},
   "source": [
    "For each of the notebooks there are datasets that are available on the CyVerse data store for import. If you make a mistake, or need to skip ahead, use the commands below to import the data you need. "
   ]
  },
  {
   "cell_type": "markdown",
   "metadata": {},
   "source": [
    "## Setup iRods configuration (required)\n",
    "\n",
    "Before using this notebook you must execute the following cell before running any of the other cells"
   ]
  },
  {
   "cell_type": "code",
   "execution_count": null,
   "metadata": {},
   "outputs": [],
   "source": [
    "echo '{\"irods_zone_name\": \"iplant\", \"irods_host\": \"data.iplantcollaborative.org\",\"irods_port\": 1247,\"irods_user_name\": \"anonymous\"}' > /home/jovyan/.irods/irods_environment.json "
   ]
  },
  {
   "cell_type": "markdown",
   "metadata": {},
   "source": [
    "# Get fastq files \n",
    "\n",
    "This will import the 6 high-fat diet control and tumor fastq files and make the appropriate directory if needed. "
   ]
  },
  {
   "cell_type": "code",
   "execution_count": null,
   "metadata": {},
   "outputs": [],
   "source": [
    "mkdir -p /home/gea_user/data/raw_data/\n",
    "iget -rPVT /iplant/home/shared/gea/rna-seq-leptin/data/raw_data/fastq /home/gea_user/data/raw_data/"
   ]
  },
  {
   "cell_type": "markdown",
   "metadata": {},
   "source": [
    "Verify the fastq files are now present"
   ]
  },
  {
   "cell_type": "code",
   "execution_count": null,
   "metadata": {},
   "outputs": [],
   "source": [
    "ls /home/gea_user/data/raw_data/fastq"
   ]
  },
  {
   "cell_type": "markdown",
   "metadata": {},
   "source": [
    "# Get FASTQC reports for untrimmed fastq files\n",
    "\n",
    "This will import fastqc reports for the untrimmed fastq file and make the appropriate directory if needed. "
   ]
  },
  {
   "cell_type": "code",
   "execution_count": null,
   "metadata": {},
   "outputs": [],
   "source": [
    "mkdir -p /home/gea_user/rna-seq-project/\n",
    "iget -rPVT /iplant/home/shared/gea/rna-seq-leptin/worked_results/rna-seq-project/fastqc-untrimmed-results /home/gea_user/rna-seq-project/"
   ]
  },
  {
   "cell_type": "markdown",
   "metadata": {},
   "source": [
    "Verify the fastqc reports are now present"
   ]
  },
  {
   "cell_type": "code",
   "execution_count": null,
   "metadata": {},
   "outputs": [],
   "source": [
    "ls /home/gea_user/rna-seq-project/fastqc-untrimmed-results"
   ]
  },
  {
   "cell_type": "markdown",
   "metadata": {},
   "source": [
    "# Get trimmed fastq files and fastqc reports\n",
    "\n",
    "This will import trimmed fastq files and make the appropriate directory if needed. "
   ]
  },
  {
   "cell_type": "code",
   "execution_count": null,
   "metadata": {},
   "outputs": [],
   "source": [
    "mkdir -p /home/gea_user/rna-seq-project/\n",
    "iget -rPVT /iplant/home/shared/gea/rna-seq-leptin/worked_results/rna-seq-project/trimmed-reads /home/gea_user/rna-seq-project/"
   ]
  },
  {
   "cell_type": "markdown",
   "metadata": {},
   "source": [
    "Verify the trimmed reads and fastqc reports are now present"
   ]
  },
  {
   "cell_type": "code",
   "execution_count": null,
   "metadata": {},
   "outputs": [],
   "source": [
    "ls -R /home/gea_user/rna-seq-project/trimmed-reads"
   ]
  },
  {
   "cell_type": "markdown",
   "metadata": {},
   "source": [
    "# Get transcriptome and indexed transcriptome for Kallisto"
   ]
  },
  {
   "cell_type": "markdown",
   "metadata": {},
   "source": [
    "This will import transcriptome and index files and make the appropriate directory if needed. "
   ]
  },
  {
   "cell_type": "code",
   "execution_count": null,
   "metadata": {},
   "outputs": [],
   "source": [
    "mkdir -p /home/gea_user/rna-seq-project/\n",
    "iget -rPVT /iplant/home/shared/gea/rna-seq-leptin/worked_results/rna-seq-project/transcriptome /home/gea_user/rna-seq-project/"
   ]
  },
  {
   "cell_type": "markdown",
   "metadata": {},
   "source": [
    "Verify the transcriptome and index files are now present"
   ]
  },
  {
   "cell_type": "code",
   "execution_count": null,
   "metadata": {},
   "outputs": [],
   "source": [
    "ls /home/gea_user/rna-seq-project/transcriptome"
   ]
  },
  {
   "cell_type": "markdown",
   "metadata": {},
   "source": [
    "# Get Kallisto pseudoalignments, genomes/transcriptome files, pseudoBAM files\n",
    "\n",
    "This will import the gene annotation files needed for kallisto as well as the kallisto outputs"
   ]
  },
  {
   "cell_type": "code",
   "execution_count": null,
   "metadata": {},
   "outputs": [],
   "source": [
    "mkdir -p /home/gea_user/rna-seq-project/\n",
    "iget -rPVT /iplant/home/shared/gea/rna-seq-leptin/worked_results/rna-seq-project/kallisto  /home/gea_user/rna-seq-project/"
   ]
  },
  {
   "cell_type": "markdown",
   "metadata": {},
   "source": [
    "Verify the Kallisto outputs are now present\n"
   ]
  },
  {
   "cell_type": "code",
   "execution_count": null,
   "metadata": {},
   "outputs": [],
   "source": [
    "ls -R /home/gea_user/rna-seq-project/kallisto"
   ]
  }
 ],
 "metadata": {
  "kernelspec": {
   "display_name": "Bash",
   "language": "bash",
   "name": "bash"
  },
  "language_info": {
   "codemirror_mode": "shell",
   "file_extension": ".sh",
   "mimetype": "text/x-sh",
   "name": "bash"
  }
 },
 "nbformat": 4,
 "nbformat_minor": 4
}
