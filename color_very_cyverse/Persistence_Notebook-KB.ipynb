{
 "cells": [
  {
   "cell_type": "markdown",
   "metadata": {},
   "source": [
    "# Backup Data"
   ]
  },
  {
   "cell_type": "markdown",
   "metadata": {},
   "source": [
    "For each of the notebooks there are datasets that are available on the CyVerse data store for import. If you make a mistake, or need to skip ahead, use the commands below to import the data you need. "
   ]
  },
  {
   "cell_type": "markdown",
   "metadata": {},
   "source": [
    "## Setup iRods configuration (required)\n",
    "\n",
    "Before using this notebook you must execute the following cell before running any of the other cells"
   ]
  },
  {
   "cell_type": "code",
   "execution_count": null,
   "metadata": {},
   "outputs": [],
   "source": [
    "mkdir -p /home/gea_user/.irods\n",
    "echo '{\"irods_zone_name\": \"iplant\", \"irods_host\": \"data.cyverse.org\",\"irods_port\": 1247,\"irods_user_name\": \"'$IPLANT_USER'\"}' > /home/gea_user/.irods/irods_environment.json "
   ]
  },
  {
   "cell_type": "markdown",
   "metadata": {},
   "source": [
    "Run the cell above me to generate an irods file that has your username. \n",
    "\n",
    "\n",
    "Then, switch to your terminal and run `iinit` and input your password in when prompted. \n",
    "\n",
    "\n",
    "Save the notebook.\n",
    "\n",
    "\n",
    "Finally, if all of the above succeeded, look at the cell below and verify it is backing up the stuff you want to back up and run it. "
   ]
  },
  {
   "cell_type": "code",
   "execution_count": null,
   "metadata": {},
   "outputs": [],
   "source": [
    "irsync -r /home/gea_user/data i:/iplant/home/$IPLANT_USER/data"
   ]
  }
 ],
 "metadata": {
  "kernelspec": {
   "display_name": "Bash",
   "language": "bash",
   "name": "bash"
  },
  "language_info": {
   "codemirror_mode": "shell",
   "file_extension": ".sh",
   "mimetype": "text/x-sh",
   "name": "bash"
  }
 },
 "nbformat": 4,
 "nbformat_minor": 4
}
